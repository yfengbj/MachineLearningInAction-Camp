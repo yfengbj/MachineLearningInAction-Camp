{
 "cells": [
  {
   "cell_type": "markdown",
   "metadata": {},
   "source": [
    "# numpy 科学计算库"
   ]
  },
  {
   "cell_type": "code",
   "execution_count": 2,
   "metadata": {
    "collapsed": true
   },
   "outputs": [],
   "source": [
    "import numpy as np"
   ]
  },
  {
   "cell_type": "markdown",
   "metadata": {},
   "source": [
    "## 生成随机数（多维数组）"
   ]
  },
  {
   "cell_type": "code",
   "execution_count": 4,
   "metadata": {},
   "outputs": [
    {
     "data": {
      "text/plain": [
       "array([[ 0.67230722,  0.92320551,  0.55412357,  0.67838681],\n",
       "       [ 0.15995348,  0.82559849,  0.81119944,  0.81135556],\n",
       "       [ 0.53625934,  0.53767243,  0.74293748,  0.19497616],\n",
       "       [ 0.45619009,  0.86728338,  0.59418446,  0.94552662]])"
      ]
     },
     "execution_count": 4,
     "metadata": {},
     "output_type": "execute_result"
    }
   ],
   "source": [
    "ran = np.random.rand(4,4)\n",
    "ran"
   ]
  },
  {
   "cell_type": "markdown",
   "metadata": {},
   "source": [
    "## 数组运算"
   ]
  },
  {
   "cell_type": "code",
   "execution_count": 6,
   "metadata": {
    "scrolled": true
   },
   "outputs": [
    {
     "data": {
      "text/plain": [
       "array([[  1.88659088e-02,   4.49763178e-01,   2.72939384e-03,\n",
       "          2.06430545e-02],\n",
       "       [  1.09631922e-08,   1.47125827e-01,   1.23388991e-01,\n",
       "          1.23626676e-01],\n",
       "       [  1.96674798e-03,   2.01919219e-03,   5.12298030e-02,\n",
       "          7.93990314e-08],\n",
       "       [  3.90353857e-04,   2.40774367e-01,   5.48545806e-03,\n",
       "          5.71133483e-01]])"
      ]
     },
     "execution_count": 6,
     "metadata": {},
     "output_type": "execute_result"
    }
   ],
   "source": [
    "ran**10"
   ]
  },
  {
   "cell_type": "code",
   "execution_count": 7,
   "metadata": {},
   "outputs": [
    {
     "data": {
      "text/plain": [
       "array([[ 1.48741524,  1.08318244,  1.80465163,  1.47408526],\n",
       "       [ 6.25181758,  1.21124252,  1.23274247,  1.23250526],\n",
       "       [ 1.86476938,  1.85986848,  1.34600828,  5.12883207],\n",
       "       [ 2.19206866,  1.15302567,  1.68297905,  1.05761168]])"
      ]
     },
     "execution_count": 7,
     "metadata": {},
     "output_type": "execute_result"
    }
   ],
   "source": [
    "1/ran"
   ]
  },
  {
   "cell_type": "markdown",
   "metadata": {},
   "source": [
    "## 内置统计学函数"
   ]
  },
  {
   "cell_type": "code",
   "execution_count": 8,
   "metadata": {},
   "outputs": [
    {
     "data": {
      "text/plain": [
       "array([[ 0.02404611,  0.00856863, -0.00717491,  0.01792569],\n",
       "       [ 0.00856863,  0.10766162, -0.00707782,  0.05709484],\n",
       "       [-0.00717491, -0.00707782,  0.05158568, -0.03444119],\n",
       "       [ 0.01792569,  0.05709484, -0.03444119,  0.05263639]])"
      ]
     },
     "execution_count": 8,
     "metadata": {},
     "output_type": "execute_result"
    }
   ],
   "source": [
    "np.cov(ran)"
   ]
  },
  {
   "cell_type": "code",
   "execution_count": 10,
   "metadata": {},
   "outputs": [
    {
     "data": {
      "text/plain": [
       "array([[ 1.        ,  0.16840644, -0.20371803,  0.50386061],\n",
       "       [ 0.16840644,  1.        , -0.09497394,  0.75844372],\n",
       "       [-0.20371803, -0.09497394,  1.        , -0.66095285],\n",
       "       [ 0.50386061,  0.75844372, -0.66095285,  1.        ]])"
      ]
     },
     "execution_count": 10,
     "metadata": {},
     "output_type": "execute_result"
    }
   ],
   "source": [
    "np.corrcoef(ran)"
   ]
  },
  {
   "cell_type": "markdown",
   "metadata": {},
   "source": [
    "## 提取数据"
   ]
  },
  {
   "cell_type": "code",
   "execution_count": 11,
   "metadata": {},
   "outputs": [
    {
     "data": {
      "text/plain": [
       "array([ 0.67230722,  0.15995348,  0.53625934,  0.45619009])"
      ]
     },
     "execution_count": 11,
     "metadata": {},
     "output_type": "execute_result"
    }
   ],
   "source": [
    "#取ran的第一列数据\n",
    "a = ran[:,0]\n",
    "a"
   ]
  },
  {
   "cell_type": "markdown",
   "metadata": {},
   "source": [
    "# pandas"
   ]
  },
  {
   "cell_type": "code",
   "execution_count": 12,
   "metadata": {
    "collapsed": true
   },
   "outputs": [],
   "source": [
    "import pandas as pd"
   ]
  },
  {
   "cell_type": "markdown",
   "metadata": {},
   "source": [
    "## 生成DataFrame"
   ]
  },
  {
   "cell_type": "code",
   "execution_count": 18,
   "metadata": {},
   "outputs": [
    {
     "data": {
      "text/html": [
       "<div>\n",
       "<style>\n",
       "    .dataframe thead tr:only-child th {\n",
       "        text-align: right;\n",
       "    }\n",
       "\n",
       "    .dataframe thead th {\n",
       "        text-align: left;\n",
       "    }\n",
       "\n",
       "    .dataframe tbody tr th {\n",
       "        vertical-align: top;\n",
       "    }\n",
       "</style>\n",
       "<table border=\"1\" class=\"dataframe\">\n",
       "  <thead>\n",
       "    <tr style=\"text-align: right;\">\n",
       "      <th></th>\n",
       "      <th>0</th>\n",
       "      <th>1</th>\n",
       "      <th>2</th>\n",
       "      <th>3</th>\n",
       "    </tr>\n",
       "  </thead>\n",
       "  <tbody>\n",
       "    <tr>\n",
       "      <th>0</th>\n",
       "      <td>0.672307</td>\n",
       "      <td>0.923206</td>\n",
       "      <td>0.554124</td>\n",
       "      <td>0.678387</td>\n",
       "    </tr>\n",
       "    <tr>\n",
       "      <th>1</th>\n",
       "      <td>0.159953</td>\n",
       "      <td>0.825598</td>\n",
       "      <td>0.811199</td>\n",
       "      <td>0.811356</td>\n",
       "    </tr>\n",
       "    <tr>\n",
       "      <th>2</th>\n",
       "      <td>0.536259</td>\n",
       "      <td>0.537672</td>\n",
       "      <td>0.742937</td>\n",
       "      <td>0.194976</td>\n",
       "    </tr>\n",
       "    <tr>\n",
       "      <th>3</th>\n",
       "      <td>0.456190</td>\n",
       "      <td>0.867283</td>\n",
       "      <td>0.594184</td>\n",
       "      <td>0.945527</td>\n",
       "    </tr>\n",
       "  </tbody>\n",
       "</table>\n",
       "</div>"
      ],
      "text/plain": [
       "          0         1         2         3\n",
       "0  0.672307  0.923206  0.554124  0.678387\n",
       "1  0.159953  0.825598  0.811199  0.811356\n",
       "2  0.536259  0.537672  0.742937  0.194976\n",
       "3  0.456190  0.867283  0.594184  0.945527"
      ]
     },
     "execution_count": 18,
     "metadata": {},
     "output_type": "execute_result"
    }
   ],
   "source": [
    "df = pd.DataFrame(ran,index = [i for i in range(4)],columns = [i for i in range(4)])\n",
    "df"
   ]
  },
  {
   "cell_type": "markdown",
   "metadata": {},
   "source": [
    "## 选择数据"
   ]
  },
  {
   "cell_type": "code",
   "execution_count": 17,
   "metadata": {},
   "outputs": [
    {
     "data": {
      "text/plain": [
       "0.81119943811161055"
      ]
     },
     "execution_count": 17,
     "metadata": {},
     "output_type": "execute_result"
    }
   ],
   "source": [
    "df.iloc[1,2] #取第2行第3列数据"
   ]
  },
  {
   "cell_type": "markdown",
   "metadata": {},
   "source": [
    "## 函数应用"
   ]
  },
  {
   "cell_type": "code",
   "execution_count": 22,
   "metadata": {},
   "outputs": [
    {
     "data": {
      "text/html": [
       "<div>\n",
       "<style>\n",
       "    .dataframe thead tr:only-child th {\n",
       "        text-align: right;\n",
       "    }\n",
       "\n",
       "    .dataframe thead th {\n",
       "        text-align: left;\n",
       "    }\n",
       "\n",
       "    .dataframe tbody tr th {\n",
       "        vertical-align: top;\n",
       "    }\n",
       "</style>\n",
       "<table border=\"1\" class=\"dataframe\">\n",
       "  <thead>\n",
       "    <tr style=\"text-align: right;\">\n",
       "      <th></th>\n",
       "      <th>0</th>\n",
       "      <th>1</th>\n",
       "      <th>2</th>\n",
       "      <th>3</th>\n",
       "    </tr>\n",
       "  </thead>\n",
       "  <tbody>\n",
       "    <tr>\n",
       "      <th>0</th>\n",
       "      <td>0.451997</td>\n",
       "      <td>0.852308</td>\n",
       "      <td>0.307053</td>\n",
       "      <td>0.460209</td>\n",
       "    </tr>\n",
       "    <tr>\n",
       "      <th>1</th>\n",
       "      <td>0.025585</td>\n",
       "      <td>0.681613</td>\n",
       "      <td>0.658045</td>\n",
       "      <td>0.658298</td>\n",
       "    </tr>\n",
       "    <tr>\n",
       "      <th>2</th>\n",
       "      <td>0.287574</td>\n",
       "      <td>0.289092</td>\n",
       "      <td>0.551956</td>\n",
       "      <td>0.038016</td>\n",
       "    </tr>\n",
       "    <tr>\n",
       "      <th>3</th>\n",
       "      <td>0.208109</td>\n",
       "      <td>0.752180</td>\n",
       "      <td>0.353055</td>\n",
       "      <td>0.894021</td>\n",
       "    </tr>\n",
       "  </tbody>\n",
       "</table>\n",
       "</div>"
      ],
      "text/plain": [
       "          0         1         2         3\n",
       "0  0.451997  0.852308  0.307053  0.460209\n",
       "1  0.025585  0.681613  0.658045  0.658298\n",
       "2  0.287574  0.289092  0.551956  0.038016\n",
       "3  0.208109  0.752180  0.353055  0.894021"
      ]
     },
     "execution_count": 22,
     "metadata": {},
     "output_type": "execute_result"
    }
   ],
   "source": [
    "df2 = df.apply(lambda x :x**2)\n",
    "df2"
   ]
  },
  {
   "cell_type": "markdown",
   "metadata": {},
   "source": [
    "## 描述性统计"
   ]
  },
  {
   "cell_type": "code",
   "execution_count": 23,
   "metadata": {},
   "outputs": [
    {
     "data": {
      "text/html": [
       "<div>\n",
       "<style>\n",
       "    .dataframe thead tr:only-child th {\n",
       "        text-align: right;\n",
       "    }\n",
       "\n",
       "    .dataframe thead th {\n",
       "        text-align: left;\n",
       "    }\n",
       "\n",
       "    .dataframe tbody tr th {\n",
       "        vertical-align: top;\n",
       "    }\n",
       "</style>\n",
       "<table border=\"1\" class=\"dataframe\">\n",
       "  <thead>\n",
       "    <tr style=\"text-align: right;\">\n",
       "      <th></th>\n",
       "      <th>0</th>\n",
       "      <th>1</th>\n",
       "      <th>2</th>\n",
       "      <th>3</th>\n",
       "    </tr>\n",
       "  </thead>\n",
       "  <tbody>\n",
       "    <tr>\n",
       "      <th>count</th>\n",
       "      <td>4.000000</td>\n",
       "      <td>4.000000</td>\n",
       "      <td>4.000000</td>\n",
       "      <td>4.000000</td>\n",
       "    </tr>\n",
       "    <tr>\n",
       "      <th>mean</th>\n",
       "      <td>0.243316</td>\n",
       "      <td>0.643798</td>\n",
       "      <td>0.467527</td>\n",
       "      <td>0.512636</td>\n",
       "    </tr>\n",
       "    <tr>\n",
       "      <th>std</th>\n",
       "      <td>0.177156</td>\n",
       "      <td>0.246624</td>\n",
       "      <td>0.165611</td>\n",
       "      <td>0.362714</td>\n",
       "    </tr>\n",
       "    <tr>\n",
       "      <th>min</th>\n",
       "      <td>0.025585</td>\n",
       "      <td>0.289092</td>\n",
       "      <td>0.307053</td>\n",
       "      <td>0.038016</td>\n",
       "    </tr>\n",
       "    <tr>\n",
       "      <th>25%</th>\n",
       "      <td>0.162478</td>\n",
       "      <td>0.583483</td>\n",
       "      <td>0.341555</td>\n",
       "      <td>0.354660</td>\n",
       "    </tr>\n",
       "    <tr>\n",
       "      <th>50%</th>\n",
       "      <td>0.247842</td>\n",
       "      <td>0.716897</td>\n",
       "      <td>0.452506</td>\n",
       "      <td>0.559253</td>\n",
       "    </tr>\n",
       "    <tr>\n",
       "      <th>75%</th>\n",
       "      <td>0.328680</td>\n",
       "      <td>0.777212</td>\n",
       "      <td>0.578478</td>\n",
       "      <td>0.717229</td>\n",
       "    </tr>\n",
       "    <tr>\n",
       "      <th>max</th>\n",
       "      <td>0.451997</td>\n",
       "      <td>0.852308</td>\n",
       "      <td>0.658045</td>\n",
       "      <td>0.894021</td>\n",
       "    </tr>\n",
       "  </tbody>\n",
       "</table>\n",
       "</div>"
      ],
      "text/plain": [
       "              0         1         2         3\n",
       "count  4.000000  4.000000  4.000000  4.000000\n",
       "mean   0.243316  0.643798  0.467527  0.512636\n",
       "std    0.177156  0.246624  0.165611  0.362714\n",
       "min    0.025585  0.289092  0.307053  0.038016\n",
       "25%    0.162478  0.583483  0.341555  0.354660\n",
       "50%    0.247842  0.716897  0.452506  0.559253\n",
       "75%    0.328680  0.777212  0.578478  0.717229\n",
       "max    0.451997  0.852308  0.658045  0.894021"
      ]
     },
     "execution_count": 23,
     "metadata": {},
     "output_type": "execute_result"
    }
   ],
   "source": [
    "df2.describe()"
   ]
  },
  {
   "cell_type": "markdown",
   "metadata": {},
   "source": [
    "# matplotlib"
   ]
  },
  {
   "cell_type": "markdown",
   "metadata": {},
   "source": [
    "## 绘制随机漫步"
   ]
  },
  {
   "cell_type": "code",
   "execution_count": 24,
   "metadata": {
    "collapsed": true
   },
   "outputs": [],
   "source": [
    "import matplotlib.pyplot as plt\n",
    "%matplotlib inline"
   ]
  },
  {
   "cell_type": "code",
   "execution_count": 25,
   "metadata": {},
   "outputs": [
    {
     "data": {
      "text/plain": [
       "<matplotlib.legend.Legend at 0x20b3a2cb0b8>"
      ]
     },
     "execution_count": 25,
     "metadata": {},
     "output_type": "execute_result"
    },
    {
     "data": {
      "image/png": "[encoded data removed]",
      "text/plain": [
       "<matplotlib.figure.Figure at 0x20b3a458438>"
      ]
     },
     "metadata": {},
     "output_type": "display_data"
    }
   ],
   "source": [
    "fig = plt.figure()\n",
    "ax = fig.add_subplot(1,1,1)\n",
    "ax.plot(np.random.randn(1000).cumsum(),'k',label = 'one')\n",
    "ax.plot(np.random.randn(1000).cumsum(),'k--',label = 'two')\n",
    "ax.plot(np.random.randn(1000).cumsum(),'k.',label = 'three')\n",
    "ax.legend()\n"
   ]
  }
 ],
 "metadata": {
  "kernelspec": {
   "display_name": "Python 3",
   "language": "python",
   "name": "python3"
  },
  "language_info": {
   "codemirror_mode": {
    "name": "ipython",
    "version": 3
   },
   "file_extension": ".py",
   "mimetype": "text/x-python",
   "name": "python",
   "nbconvert_exporter": "python",
   "pygments_lexer": "ipython3",
   "version": "3.6.5"
  }
 },
 "nbformat": 4,
 "nbformat_minor": 2
}
